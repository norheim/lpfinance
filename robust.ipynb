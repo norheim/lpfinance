{
 "cells": [
  {
   "cell_type": "code",
   "execution_count": 1,
   "metadata": {},
   "outputs": [
    {
     "name": "stderr",
     "output_type": "stream",
     "text": [
      "┌ Info: Recompiling stale cache file C:\\Users\\johan\\.julia\\compiled\\v1.2\\Plots\\ld3vC.ji for Plots [91a5bcdd-55d7-5caf-9e0b-520d859cae80]\n",
      "└ @ Base loading.jl:1240\n"
     ]
    },
    {
     "name": "stdout",
     "output_type": "stream",
     "text": [
      "Academic license - for non-commercial use only\n"
     ]
    }
   ],
   "source": [
    "using JuMP\n",
    "using Gurobi\n",
    "using MosekTools\n",
    "using ECOS\n",
    "using LinearAlgebra\n",
    "using Plots\n",
    "const GRB_ENV = Gurobi.Env();"
   ]
  },
  {
   "cell_type": "code",
   "execution_count": 2,
   "metadata": {},
   "outputs": [],
   "source": [
    "n = 85\n",
    "σ_ij = zeros(n, n);"
   ]
  },
  {
   "cell_type": "markdown",
   "metadata": {},
   "source": [
    "## JE Beasley's OR library"
   ]
  },
  {
   "cell_type": "code",
   "execution_count": 3,
   "metadata": {},
   "outputs": [],
   "source": [
    "lines = readlines(\"port2.txt\");"
   ]
  },
  {
   "cell_type": "code",
   "execution_count": 4,
   "metadata": {},
   "outputs": [],
   "source": [
    "df1 = [map(x->parse(Float64,x), split(line, \" \")[2:end])\n",
    "    for line in lines[2:86]];\n",
    "m, stdiv =getindex.(df1,1),getindex.(df1,2);"
   ]
  },
  {
   "cell_type": "code",
   "execution_count": 5,
   "metadata": {},
   "outputs": [],
   "source": [
    "for line in lines[87:end-1]\n",
    "    i, j, s = map(x->parse(Float64,x), split(line, \" \")[2:end])\n",
    "    i, j = Int(i), Int(j)\n",
    "    sigma = s*stdiv[i]*stdiv[j]\n",
    "    σ_ij[i, j] = sigma\n",
    "    σ_ij[j, i] = sigma\n",
    "end"
   ]
  },
  {
   "cell_type": "code",
   "execution_count": 28,
   "metadata": {},
   "outputs": [
    {
     "data": {
      "text/plain": [
       "(-0.004002, 0.009794)"
      ]
     },
     "execution_count": 28,
     "metadata": {},
     "output_type": "execute_result"
    }
   ],
   "source": [
    "minimum(m), maximum(m)"
   ]
  },
  {
   "cell_type": "markdown",
   "metadata": {},
   "source": [
    "## Bloomberg data"
   ]
  },
  {
   "cell_type": "code",
   "execution_count": 21,
   "metadata": {},
   "outputs": [],
   "source": [
    "using CSV\n",
    "\n",
    "df = CSV.read(\"StockReturnsTestSampleContinuous.csv\");\n",
    "mat = convert(Matrix, df[:,2:end]);\n",
    "using Statistics\n",
    "σ_ij2 = cov(mat)\n",
    "μ = mean(mat, dims=1);"
   ]
  },
  {
   "cell_type": "markdown",
   "metadata": {},
   "source": [
    "## Quadratic model"
   ]
  },
  {
   "cell_type": "code",
   "execution_count": 6,
   "metadata": {},
   "outputs": [],
   "source": [
    "finmodel = Model(with_optimizer(Gurobi.Optimizer, GRB_ENV, OutputFlag=0))\n",
    "@variable(finmodel, x[1:85]>=0);\n",
    "@variable(finmodel, ρ)\n",
    "@constraint(finmodel, sum(x)==1)\n",
    "@constraint(finmodel, dot(m,x) == ρ);\n",
    "@objective(finmodel, Min, x'*σ_ij*x);"
   ]
  },
  {
   "cell_type": "code",
   "execution_count": 7,
   "metadata": {},
   "outputs": [],
   "source": [
    "vals = []\n",
    "for c in range(0.1,stop=10,length=30)\n",
    "    ρ_i = c*0.0009248\n",
    "    fix(ρ, ρ_i)\n",
    "    optimize!(finmodel)\n",
    "    push!(vals, [objective_value(finmodel), ρ_i])\n",
    "end"
   ]
  },
  {
   "cell_type": "code",
   "execution_count": 8,
   "metadata": {},
   "outputs": [],
   "source": [
    "xy = hcat(vals...)'\n",
    "x1,y1  = xy[:,1], xy[:,2];"
   ]
  },
  {
   "cell_type": "code",
   "execution_count": 9,
   "metadata": {},
   "outputs": [
    {
     "data": {
      "image/svg+xml": [
       "<?xml version=\"1.0\" encoding=\"utf-8\"?>\n",
       "<svg xmlns=\"http://www.w3.org/2000/svg\" xmlns:xlink=\"http://www.w3.org/1999/xlink\" width=\"600\" height=\"400\" viewBox=\"0 0 2400 1600\">\n",
       "<defs>\n",
       "  <clipPath id=\"clip6400\">\n",
       "    <rect x=\"0\" y=\"0\" width=\"2400\" height=\"1600\"/>\n",
       "  </clipPath>\n",
       "</defs>\n",
       "<path clip-path=\"url(#clip6400)\" d=\"\n",
       "M0 1600 L2400 1600 L2400 0 L0 0  Z\n",
       "  \" fill=\"#ffffff\" fill-rule=\"evenodd\" fill-opacity=\"1\"/>\n",
       "<defs>\n",
       "  <clipPath id=\"clip6401\">\n",
       "    <rect x=\"480\" y=\"0\" width=\"1681\" height=\"1600\"/>\n",
       "  </clipPath>\n",
       "</defs>\n",
       "<path clip-path=\"url(#clip6400)\" d=\"\n",
       "M207.423 1487.47 L2352.76 1487.47 L2352.76 47.2441 L207.423 47.2441  Z\n",
       "  \" fill=\"#ffffff\" fill-rule=\"evenodd\" fill-opacity=\"1\"/>\n",
       "<defs>\n",
       "  <clipPath id=\"clip6402\">\n",
       "    <rect x=\"207\" y=\"47\" width=\"2146\" height=\"1441\"/>\n",
       "  </clipPath>\n",
       "</defs>\n",
       "<polyline clip-path=\"url(#clip6402)\" style=\"stroke:#000000; stroke-width:2; stroke-opacity:0.1; fill:none\" points=\"\n",
       "  411.414,1487.47 411.414,47.2441 \n",
       "  \"/>\n",
       "<polyline clip-path=\"url(#clip6402)\" style=\"stroke:#000000; stroke-width:2; stroke-opacity:0.1; fill:none\" points=\"\n",
       "  865.89,1487.47 865.89,47.2441 \n",
       "  \"/>\n",
       "<polyline clip-path=\"url(#clip6402)\" style=\"stroke:#000000; stroke-width:2; stroke-opacity:0.1; fill:none\" points=\"\n",
       "  1320.37,1487.47 1320.37,47.2441 \n",
       "  \"/>\n",
       "<polyline clip-path=\"url(#clip6402)\" style=\"stroke:#000000; stroke-width:2; stroke-opacity:0.1; fill:none\" points=\"\n",
       "  1774.84,1487.47 1774.84,47.2441 \n",
       "  \"/>\n",
       "<polyline clip-path=\"url(#clip6402)\" style=\"stroke:#000000; stroke-width:2; stroke-opacity:0.1; fill:none\" points=\"\n",
       "  2229.32,1487.47 2229.32,47.2441 \n",
       "  \"/>\n",
       "<polyline clip-path=\"url(#clip6402)\" style=\"stroke:#000000; stroke-width:2; stroke-opacity:0.1; fill:none\" points=\"\n",
       "  207.423,1460.44 2352.76,1460.44 \n",
       "  \"/>\n",
       "<polyline clip-path=\"url(#clip6402)\" style=\"stroke:#000000; stroke-width:2; stroke-opacity:0.1; fill:none\" points=\"\n",
       "  207.423,1163.63 2352.76,1163.63 \n",
       "  \"/>\n",
       "<polyline clip-path=\"url(#clip6402)\" style=\"stroke:#000000; stroke-width:2; stroke-opacity:0.1; fill:none\" points=\"\n",
       "  207.423,866.825 2352.76,866.825 \n",
       "  \"/>\n",
       "<polyline clip-path=\"url(#clip6402)\" style=\"stroke:#000000; stroke-width:2; stroke-opacity:0.1; fill:none\" points=\"\n",
       "  207.423,570.019 2352.76,570.019 \n",
       "  \"/>\n",
       "<polyline clip-path=\"url(#clip6402)\" style=\"stroke:#000000; stroke-width:2; stroke-opacity:0.1; fill:none\" points=\"\n",
       "  207.423,273.212 2352.76,273.212 \n",
       "  \"/>\n",
       "<polyline clip-path=\"url(#clip6400)\" style=\"stroke:#000000; stroke-width:4; stroke-opacity:1; fill:none\" points=\"\n",
       "  207.423,1487.47 2352.76,1487.47 \n",
       "  \"/>\n",
       "<polyline clip-path=\"url(#clip6400)\" style=\"stroke:#000000; stroke-width:4; stroke-opacity:1; fill:none\" points=\"\n",
       "  207.423,1487.47 207.423,47.2441 \n",
       "  \"/>\n",
       "<polyline clip-path=\"url(#clip6400)\" style=\"stroke:#000000; stroke-width:4; stroke-opacity:1; fill:none\" points=\"\n",
       "  411.414,1487.47 411.414,1465.87 \n",
       "  \"/>\n",
       "<polyline clip-path=\"url(#clip6400)\" style=\"stroke:#000000; stroke-width:4; stroke-opacity:1; fill:none\" points=\"\n",
       "  865.89,1487.47 865.89,1465.87 \n",
       "  \"/>\n",
       "<polyline clip-path=\"url(#clip6400)\" style=\"stroke:#000000; stroke-width:4; stroke-opacity:1; fill:none\" points=\"\n",
       "  1320.37,1487.47 1320.37,1465.87 \n",
       "  \"/>\n",
       "<polyline clip-path=\"url(#clip6400)\" style=\"stroke:#000000; stroke-width:4; stroke-opacity:1; fill:none\" points=\"\n",
       "  1774.84,1487.47 1774.84,1465.87 \n",
       "  \"/>\n",
       "<polyline clip-path=\"url(#clip6400)\" style=\"stroke:#000000; stroke-width:4; stroke-opacity:1; fill:none\" points=\"\n",
       "  2229.32,1487.47 2229.32,1465.87 \n",
       "  \"/>\n",
       "<polyline clip-path=\"url(#clip6400)\" style=\"stroke:#000000; stroke-width:4; stroke-opacity:1; fill:none\" points=\"\n",
       "  207.423,1460.44 239.603,1460.44 \n",
       "  \"/>\n",
       "<polyline clip-path=\"url(#clip6400)\" style=\"stroke:#000000; stroke-width:4; stroke-opacity:1; fill:none\" points=\"\n",
       "  207.423,1163.63 239.603,1163.63 \n",
       "  \"/>\n",
       "<polyline clip-path=\"url(#clip6400)\" style=\"stroke:#000000; stroke-width:4; stroke-opacity:1; fill:none\" points=\"\n",
       "  207.423,866.825 239.603,866.825 \n",
       "  \"/>\n",
       "<polyline clip-path=\"url(#clip6400)\" style=\"stroke:#000000; stroke-width:4; stroke-opacity:1; fill:none\" points=\"\n",
       "  207.423,570.019 239.603,570.019 \n",
       "  \"/>\n",
       "<polyline clip-path=\"url(#clip6400)\" style=\"stroke:#000000; stroke-width:4; stroke-opacity:1; fill:none\" points=\"\n",
       "  207.423,273.212 239.603,273.212 \n",
       "  \"/>\n",
       "<g clip-path=\"url(#clip6400)\">\n",
       "<text style=\"fill:#000000; fill-opacity:1; font-family:Arial,Helvetica Neue,Helvetica,sans-serif; font-size:48px; text-anchor:middle;\" transform=\"rotate(0, 411.414, 1541.47)\" x=\"411.414\" y=\"1541.47\">0.0002</text>\n",
       "</g>\n",
       "<g clip-path=\"url(#clip6400)\">\n",
       "<text style=\"fill:#000000; fill-opacity:1; font-family:Arial,Helvetica Neue,Helvetica,sans-serif; font-size:48px; text-anchor:middle;\" transform=\"rotate(0, 865.89, 1541.47)\" x=\"865.89\" y=\"1541.47\">0.0004</text>\n",
       "</g>\n",
       "<g clip-path=\"url(#clip6400)\">\n",
       "<text style=\"fill:#000000; fill-opacity:1; font-family:Arial,Helvetica Neue,Helvetica,sans-serif; font-size:48px; text-anchor:middle;\" transform=\"rotate(0, 1320.37, 1541.47)\" x=\"1320.37\" y=\"1541.47\">0.0006</text>\n",
       "</g>\n",
       "<g clip-path=\"url(#clip6400)\">\n",
       "<text style=\"fill:#000000; fill-opacity:1; font-family:Arial,Helvetica Neue,Helvetica,sans-serif; font-size:48px; text-anchor:middle;\" transform=\"rotate(0, 1774.84, 1541.47)\" x=\"1774.84\" y=\"1541.47\">0.0008</text>\n",
       "</g>\n",
       "<g clip-path=\"url(#clip6400)\">\n",
       "<text style=\"fill:#000000; fill-opacity:1; font-family:Arial,Helvetica Neue,Helvetica,sans-serif; font-size:48px; text-anchor:middle;\" transform=\"rotate(0, 2229.32, 1541.47)\" x=\"2229.32\" y=\"1541.47\">0.0010</text>\n",
       "</g>\n",
       "<g clip-path=\"url(#clip6400)\">\n",
       "<text style=\"fill:#000000; fill-opacity:1; font-family:Arial,Helvetica Neue,Helvetica,sans-serif; font-size:48px; text-anchor:end;\" transform=\"rotate(0, 183.423, 1477.94)\" x=\"183.423\" y=\"1477.94\">0.000</text>\n",
       "</g>\n",
       "<g clip-path=\"url(#clip6400)\">\n",
       "<text style=\"fill:#000000; fill-opacity:1; font-family:Arial,Helvetica Neue,Helvetica,sans-serif; font-size:48px; text-anchor:end;\" transform=\"rotate(0, 183.423, 1181.13)\" x=\"183.423\" y=\"1181.13\">0.002</text>\n",
       "</g>\n",
       "<g clip-path=\"url(#clip6400)\">\n",
       "<text style=\"fill:#000000; fill-opacity:1; font-family:Arial,Helvetica Neue,Helvetica,sans-serif; font-size:48px; text-anchor:end;\" transform=\"rotate(0, 183.423, 884.325)\" x=\"183.423\" y=\"884.325\">0.004</text>\n",
       "</g>\n",
       "<g clip-path=\"url(#clip6400)\">\n",
       "<text style=\"fill:#000000; fill-opacity:1; font-family:Arial,Helvetica Neue,Helvetica,sans-serif; font-size:48px; text-anchor:end;\" transform=\"rotate(0, 183.423, 587.519)\" x=\"183.423\" y=\"587.519\">0.006</text>\n",
       "</g>\n",
       "<g clip-path=\"url(#clip6400)\">\n",
       "<text style=\"fill:#000000; fill-opacity:1; font-family:Arial,Helvetica Neue,Helvetica,sans-serif; font-size:48px; text-anchor:end;\" transform=\"rotate(0, 183.423, 290.712)\" x=\"183.423\" y=\"290.712\">0.008</text>\n",
       "</g>\n",
       "<polyline clip-path=\"url(#clip6402)\" style=\"stroke:#009af9; stroke-width:4; stroke-opacity:1; fill:none\" points=\"\n",
       "  341.993,1446.71 319.124,1399.86 300.545,1353.01 286.503,1306.16 276.835,1259.31 270.788,1212.45 268.14,1165.6 268.568,1118.75 272.342,1071.9 279.602,1025.05 \n",
       "  290.61,978.193 305.6,931.341 324.71,884.489 347.974,837.637 375.538,790.785 408.268,743.933 446.609,697.081 490.769,650.229 540.838,603.377 597.637,556.525 \n",
       "  661.855,509.673 734.274,462.821 815.147,415.969 906.111,369.117 1008.85,322.265 1125.28,275.413 1265.05,228.561 1455.83,181.709 1737.3,134.857 2292.04,88.0053 \n",
       "  \n",
       "  \"/>\n",
       "<path clip-path=\"url(#clip6400)\" d=\"\n",
       "M1989.93 251.724 L2280.76 251.724 L2280.76 130.764 L1989.93 130.764  Z\n",
       "  \" fill=\"#ffffff\" fill-rule=\"evenodd\" fill-opacity=\"1\"/>\n",
       "<polyline clip-path=\"url(#clip6400)\" style=\"stroke:#000000; stroke-width:4; stroke-opacity:1; fill:none\" points=\"\n",
       "  1989.93,251.724 2280.76,251.724 2280.76,130.764 1989.93,130.764 1989.93,251.724 \n",
       "  \"/>\n",
       "<polyline clip-path=\"url(#clip6400)\" style=\"stroke:#009af9; stroke-width:4; stroke-opacity:1; fill:none\" points=\"\n",
       "  2013.93,191.244 2157.93,191.244 \n",
       "  \"/>\n",
       "<g clip-path=\"url(#clip6400)\">\n",
       "<text style=\"fill:#000000; fill-opacity:1; font-family:Arial,Helvetica Neue,Helvetica,sans-serif; font-size:48px; text-anchor:start;\" transform=\"rotate(0, 2181.93, 208.744)\" x=\"2181.93\" y=\"208.744\">y1</text>\n",
       "</g>\n",
       "</svg>\n"
      ]
     },
     "execution_count": 9,
     "metadata": {},
     "output_type": "execute_result"
    }
   ],
   "source": [
    "plot(x1,y1)"
   ]
  },
  {
   "cell_type": "markdown",
   "metadata": {},
   "source": [
    "## Robust code"
   ]
  },
  {
   "cell_type": "code",
   "execution_count": 10,
   "metadata": {},
   "outputs": [],
   "source": [
    "robmodel = Model(with_optimizer(Mosek.Optimizer, QUIET=true))\n",
    "@variable(robmodel, x[1:85]>=0)\n",
    "@variable(robmodel, z[1:85]>=0)\n",
    "@variable(robmodel, t>=0)\n",
    "@variable(robmodel, ρ)\n",
    "@objective(robmodel, Min, dot(m, x))\n",
    "@constraint(robmodel, sum(x)==1)\n",
    "@constraint(robmodel, sqrt(σ_ij)*x .== z)\n",
    "@constraint(robmodel, [t; z] in SecondOrderCone())\n",
    "@constraint(robmodel, dot(m, x)+t>=ρ);"
   ]
  },
  {
   "cell_type": "code",
   "execution_count": 11,
   "metadata": {},
   "outputs": [],
   "source": [
    "vals2 = []\n",
    "for c in range(0.1,stop=10,length=30)\n",
    "    ρ_i = c*0.0009248\n",
    "    fix(ρ, ρ_i)\n",
    "    optimize!(robmodel)\n",
    "    objv = objective_value(robmodel)\n",
    "    σ = value.(x)'*σ_ij*value.(x)\n",
    "    push!(vals2, [σ, ρ_i])\n",
    "end"
   ]
  },
  {
   "cell_type": "code",
   "execution_count": 12,
   "metadata": {},
   "outputs": [
    {
     "data": {
      "image/svg+xml": [
       "<?xml version=\"1.0\" encoding=\"utf-8\"?>\n",
       "<svg xmlns=\"http://www.w3.org/2000/svg\" xmlns:xlink=\"http://www.w3.org/1999/xlink\" width=\"600\" height=\"400\" viewBox=\"0 0 2400 1600\">\n",
       "<defs>\n",
       "  <clipPath id=\"clip6800\">\n",
       "    <rect x=\"0\" y=\"0\" width=\"2400\" height=\"1600\"/>\n",
       "  </clipPath>\n",
       "</defs>\n",
       "<path clip-path=\"url(#clip6800)\" d=\"\n",
       "M0 1600 L2400 1600 L2400 0 L0 0  Z\n",
       "  \" fill=\"#ffffff\" fill-rule=\"evenodd\" fill-opacity=\"1\"/>\n",
       "<defs>\n",
       "  <clipPath id=\"clip6801\">\n",
       "    <rect x=\"480\" y=\"0\" width=\"1681\" height=\"1600\"/>\n",
       "  </clipPath>\n",
       "</defs>\n",
       "<path clip-path=\"url(#clip6800)\" d=\"\n",
       "M207.423 1487.47 L2352.76 1487.47 L2352.76 47.2441 L207.423 47.2441  Z\n",
       "  \" fill=\"#ffffff\" fill-rule=\"evenodd\" fill-opacity=\"1\"/>\n",
       "<defs>\n",
       "  <clipPath id=\"clip6802\">\n",
       "    <rect x=\"207\" y=\"47\" width=\"2146\" height=\"1441\"/>\n",
       "  </clipPath>\n",
       "</defs>\n",
       "<polyline clip-path=\"url(#clip6802)\" style=\"stroke:#000000; stroke-width:2; stroke-opacity:0.1; fill:none\" points=\"\n",
       "  411.414,1487.47 411.414,47.2441 \n",
       "  \"/>\n",
       "<polyline clip-path=\"url(#clip6802)\" style=\"stroke:#000000; stroke-width:2; stroke-opacity:0.1; fill:none\" points=\"\n",
       "  865.89,1487.47 865.89,47.2441 \n",
       "  \"/>\n",
       "<polyline clip-path=\"url(#clip6802)\" style=\"stroke:#000000; stroke-width:2; stroke-opacity:0.1; fill:none\" points=\"\n",
       "  1320.37,1487.47 1320.37,47.2441 \n",
       "  \"/>\n",
       "<polyline clip-path=\"url(#clip6802)\" style=\"stroke:#000000; stroke-width:2; stroke-opacity:0.1; fill:none\" points=\"\n",
       "  1774.84,1487.47 1774.84,47.2441 \n",
       "  \"/>\n",
       "<polyline clip-path=\"url(#clip6802)\" style=\"stroke:#000000; stroke-width:2; stroke-opacity:0.1; fill:none\" points=\"\n",
       "  2229.32,1487.47 2229.32,47.2441 \n",
       "  \"/>\n",
       "<polyline clip-path=\"url(#clip6802)\" style=\"stroke:#000000; stroke-width:2; stroke-opacity:0.1; fill:none\" points=\"\n",
       "  207.423,1460.44 2352.76,1460.44 \n",
       "  \"/>\n",
       "<polyline clip-path=\"url(#clip6802)\" style=\"stroke:#000000; stroke-width:2; stroke-opacity:0.1; fill:none\" points=\"\n",
       "  207.423,1163.63 2352.76,1163.63 \n",
       "  \"/>\n",
       "<polyline clip-path=\"url(#clip6802)\" style=\"stroke:#000000; stroke-width:2; stroke-opacity:0.1; fill:none\" points=\"\n",
       "  207.423,866.825 2352.76,866.825 \n",
       "  \"/>\n",
       "<polyline clip-path=\"url(#clip6802)\" style=\"stroke:#000000; stroke-width:2; stroke-opacity:0.1; fill:none\" points=\"\n",
       "  207.423,570.019 2352.76,570.019 \n",
       "  \"/>\n",
       "<polyline clip-path=\"url(#clip6802)\" style=\"stroke:#000000; stroke-width:2; stroke-opacity:0.1; fill:none\" points=\"\n",
       "  207.423,273.212 2352.76,273.212 \n",
       "  \"/>\n",
       "<polyline clip-path=\"url(#clip6800)\" style=\"stroke:#000000; stroke-width:4; stroke-opacity:1; fill:none\" points=\"\n",
       "  207.423,1487.47 2352.76,1487.47 \n",
       "  \"/>\n",
       "<polyline clip-path=\"url(#clip6800)\" style=\"stroke:#000000; stroke-width:4; stroke-opacity:1; fill:none\" points=\"\n",
       "  207.423,1487.47 207.423,47.2441 \n",
       "  \"/>\n",
       "<polyline clip-path=\"url(#clip6800)\" style=\"stroke:#000000; stroke-width:4; stroke-opacity:1; fill:none\" points=\"\n",
       "  411.414,1487.47 411.414,1465.87 \n",
       "  \"/>\n",
       "<polyline clip-path=\"url(#clip6800)\" style=\"stroke:#000000; stroke-width:4; stroke-opacity:1; fill:none\" points=\"\n",
       "  865.89,1487.47 865.89,1465.87 \n",
       "  \"/>\n",
       "<polyline clip-path=\"url(#clip6800)\" style=\"stroke:#000000; stroke-width:4; stroke-opacity:1; fill:none\" points=\"\n",
       "  1320.37,1487.47 1320.37,1465.87 \n",
       "  \"/>\n",
       "<polyline clip-path=\"url(#clip6800)\" style=\"stroke:#000000; stroke-width:4; stroke-opacity:1; fill:none\" points=\"\n",
       "  1774.84,1487.47 1774.84,1465.87 \n",
       "  \"/>\n",
       "<polyline clip-path=\"url(#clip6800)\" style=\"stroke:#000000; stroke-width:4; stroke-opacity:1; fill:none\" points=\"\n",
       "  2229.32,1487.47 2229.32,1465.87 \n",
       "  \"/>\n",
       "<polyline clip-path=\"url(#clip6800)\" style=\"stroke:#000000; stroke-width:4; stroke-opacity:1; fill:none\" points=\"\n",
       "  207.423,1460.44 239.603,1460.44 \n",
       "  \"/>\n",
       "<polyline clip-path=\"url(#clip6800)\" style=\"stroke:#000000; stroke-width:4; stroke-opacity:1; fill:none\" points=\"\n",
       "  207.423,1163.63 239.603,1163.63 \n",
       "  \"/>\n",
       "<polyline clip-path=\"url(#clip6800)\" style=\"stroke:#000000; stroke-width:4; stroke-opacity:1; fill:none\" points=\"\n",
       "  207.423,866.825 239.603,866.825 \n",
       "  \"/>\n",
       "<polyline clip-path=\"url(#clip6800)\" style=\"stroke:#000000; stroke-width:4; stroke-opacity:1; fill:none\" points=\"\n",
       "  207.423,570.019 239.603,570.019 \n",
       "  \"/>\n",
       "<polyline clip-path=\"url(#clip6800)\" style=\"stroke:#000000; stroke-width:4; stroke-opacity:1; fill:none\" points=\"\n",
       "  207.423,273.212 239.603,273.212 \n",
       "  \"/>\n",
       "<g clip-path=\"url(#clip6800)\">\n",
       "<text style=\"fill:#000000; fill-opacity:1; font-family:Arial,Helvetica Neue,Helvetica,sans-serif; font-size:48px; text-anchor:middle;\" transform=\"rotate(0, 411.414, 1541.47)\" x=\"411.414\" y=\"1541.47\">0.0002</text>\n",
       "</g>\n",
       "<g clip-path=\"url(#clip6800)\">\n",
       "<text style=\"fill:#000000; fill-opacity:1; font-family:Arial,Helvetica Neue,Helvetica,sans-serif; font-size:48px; text-anchor:middle;\" transform=\"rotate(0, 865.89, 1541.47)\" x=\"865.89\" y=\"1541.47\">0.0004</text>\n",
       "</g>\n",
       "<g clip-path=\"url(#clip6800)\">\n",
       "<text style=\"fill:#000000; fill-opacity:1; font-family:Arial,Helvetica Neue,Helvetica,sans-serif; font-size:48px; text-anchor:middle;\" transform=\"rotate(0, 1320.37, 1541.47)\" x=\"1320.37\" y=\"1541.47\">0.0006</text>\n",
       "</g>\n",
       "<g clip-path=\"url(#clip6800)\">\n",
       "<text style=\"fill:#000000; fill-opacity:1; font-family:Arial,Helvetica Neue,Helvetica,sans-serif; font-size:48px; text-anchor:middle;\" transform=\"rotate(0, 1774.84, 1541.47)\" x=\"1774.84\" y=\"1541.47\">0.0008</text>\n",
       "</g>\n",
       "<g clip-path=\"url(#clip6800)\">\n",
       "<text style=\"fill:#000000; fill-opacity:1; font-family:Arial,Helvetica Neue,Helvetica,sans-serif; font-size:48px; text-anchor:middle;\" transform=\"rotate(0, 2229.32, 1541.47)\" x=\"2229.32\" y=\"1541.47\">0.0010</text>\n",
       "</g>\n",
       "<g clip-path=\"url(#clip6800)\">\n",
       "<text style=\"fill:#000000; fill-opacity:1; font-family:Arial,Helvetica Neue,Helvetica,sans-serif; font-size:48px; text-anchor:end;\" transform=\"rotate(0, 183.423, 1477.94)\" x=\"183.423\" y=\"1477.94\">0.000</text>\n",
       "</g>\n",
       "<g clip-path=\"url(#clip6800)\">\n",
       "<text style=\"fill:#000000; fill-opacity:1; font-family:Arial,Helvetica Neue,Helvetica,sans-serif; font-size:48px; text-anchor:end;\" transform=\"rotate(0, 183.423, 1181.13)\" x=\"183.423\" y=\"1181.13\">0.002</text>\n",
       "</g>\n",
       "<g clip-path=\"url(#clip6800)\">\n",
       "<text style=\"fill:#000000; fill-opacity:1; font-family:Arial,Helvetica Neue,Helvetica,sans-serif; font-size:48px; text-anchor:end;\" transform=\"rotate(0, 183.423, 884.325)\" x=\"183.423\" y=\"884.325\">0.004</text>\n",
       "</g>\n",
       "<g clip-path=\"url(#clip6800)\">\n",
       "<text style=\"fill:#000000; fill-opacity:1; font-family:Arial,Helvetica Neue,Helvetica,sans-serif; font-size:48px; text-anchor:end;\" transform=\"rotate(0, 183.423, 587.519)\" x=\"183.423\" y=\"587.519\">0.006</text>\n",
       "</g>\n",
       "<g clip-path=\"url(#clip6800)\">\n",
       "<text style=\"fill:#000000; fill-opacity:1; font-family:Arial,Helvetica Neue,Helvetica,sans-serif; font-size:48px; text-anchor:end;\" transform=\"rotate(0, 183.423, 290.712)\" x=\"183.423\" y=\"290.712\">0.008</text>\n",
       "</g>\n",
       "<polyline clip-path=\"url(#clip6802)\" style=\"stroke:#009af9; stroke-width:4; stroke-opacity:1; fill:none\" points=\"\n",
       "  341.993,1446.71 319.124,1399.86 300.545,1353.01 286.503,1306.16 276.835,1259.31 270.788,1212.45 268.14,1165.6 268.568,1118.75 272.342,1071.9 279.602,1025.05 \n",
       "  290.61,978.193 305.6,931.341 324.71,884.489 347.974,837.637 375.538,790.785 408.268,743.933 446.609,697.081 490.769,650.229 540.838,603.377 597.637,556.525 \n",
       "  661.855,509.673 734.274,462.821 815.147,415.969 906.111,369.117 1008.85,322.265 1125.28,275.413 1265.05,228.561 1455.83,181.709 1737.3,134.857 2292.04,88.0053 \n",
       "  \n",
       "  \"/>\n",
       "<polyline clip-path=\"url(#clip6802)\" style=\"stroke:#e26f46; stroke-width:4; stroke-opacity:1; fill:none\" points=\"\n",
       "  341.993,1446.71 319.124,1399.86 300.545,1353.01 286.503,1306.16 276.835,1259.31 270.788,1212.45 268.14,1165.6 268.568,1118.75 272.342,1071.9 279.602,1025.05 \n",
       "  290.61,978.193 305.6,931.341 324.71,884.489 347.974,837.637 375.538,790.785 408.268,743.933 446.609,697.081 490.769,650.229 540.838,603.377 597.637,556.525 \n",
       "  661.855,509.673 734.274,462.821 815.147,415.969 906.111,369.117 1008.85,322.265 1125.28,275.413 1265.05,228.561 1455.83,181.709 1737.3,134.857 2292.04,88.0053 \n",
       "  \n",
       "  \"/>\n",
       "<path clip-path=\"url(#clip6800)\" d=\"\n",
       "M1989.93 312.204 L2280.76 312.204 L2280.76 130.764 L1989.93 130.764  Z\n",
       "  \" fill=\"#ffffff\" fill-rule=\"evenodd\" fill-opacity=\"1\"/>\n",
       "<polyline clip-path=\"url(#clip6800)\" style=\"stroke:#000000; stroke-width:4; stroke-opacity:1; fill:none\" points=\"\n",
       "  1989.93,312.204 2280.76,312.204 2280.76,130.764 1989.93,130.764 1989.93,312.204 \n",
       "  \"/>\n",
       "<polyline clip-path=\"url(#clip6800)\" style=\"stroke:#009af9; stroke-width:4; stroke-opacity:1; fill:none\" points=\"\n",
       "  2013.93,191.244 2157.93,191.244 \n",
       "  \"/>\n",
       "<g clip-path=\"url(#clip6800)\">\n",
       "<text style=\"fill:#000000; fill-opacity:1; font-family:Arial,Helvetica Neue,Helvetica,sans-serif; font-size:48px; text-anchor:start;\" transform=\"rotate(0, 2181.93, 208.744)\" x=\"2181.93\" y=\"208.744\">y1</text>\n",
       "</g>\n",
       "<polyline clip-path=\"url(#clip6800)\" style=\"stroke:#e26f46; stroke-width:4; stroke-opacity:1; fill:none\" points=\"\n",
       "  2013.93,251.724 2157.93,251.724 \n",
       "  \"/>\n",
       "<g clip-path=\"url(#clip6800)\">\n",
       "<text style=\"fill:#000000; fill-opacity:1; font-family:Arial,Helvetica Neue,Helvetica,sans-serif; font-size:48px; text-anchor:start;\" transform=\"rotate(0, 2181.93, 269.224)\" x=\"2181.93\" y=\"269.224\">y2</text>\n",
       "</g>\n",
       "</svg>\n"
      ]
     },
     "execution_count": 12,
     "metadata": {},
     "output_type": "execute_result"
    }
   ],
   "source": [
    "xy2 = hcat(vals...)'\n",
    "x2,y2  = xy2[:,1], xy2[:,2];\n",
    "plot(x2,y2)\n",
    "plot!(x1,y1)"
   ]
  },
  {
   "cell_type": "markdown",
   "metadata": {},
   "source": [
    "## Code from class"
   ]
  },
  {
   "cell_type": "code",
   "execution_count": 4,
   "metadata": {},
   "outputs": [
    {
     "data": {
      "text/plain": [
       "5000"
      ]
     },
     "execution_count": 4,
     "metadata": {},
     "output_type": "execute_result"
    }
   ],
   "source": [
    "a = [120, 100, 180, 140]\n",
    "b = 5000"
   ]
  },
  {
   "cell_type": "code",
   "execution_count": 35,
   "metadata": {},
   "outputs": [],
   "source": [
    "E = diagm(0=>a)*0.3\n",
    "robmodel = Model(with_optimizer(Mosek.Optimizer, QUIET=true))\n",
    "@variable(robmodel, x[1:4]>=0)\n",
    "@variable(robmodel, z[1:4]>=0)\n",
    "@variable(robmodel, t>=0)\n",
    "@objective(robmodel, Max, 50*x[1]+40*x[2]+60*x[3]+30*x[4])\n",
    "@constraint(robmodel, 2*x[1]+3*x[2]+6*x[3]+1*x[4] <= 80)\n",
    "@constraint(robmodel, 3*x[1]+2*x[2]+2*x[3]+0*x[4] <= 40)\n",
    "#@constraint(robmodel, b - dot(a, x) == t)\n",
    "@constraint(robmodel, sqrt(E)*x .== z)\n",
    "@constraint(robmodel, [t; z] in SecondOrderCone())\n",
    "#@constraint(robmodel, dot(z, z) <= t^2)\n",
    "@constraint(robmodel, dot(a, x)+t==b)\n",
    "optimize!(robmodel)"
   ]
  },
  {
   "cell_type": "code",
   "execution_count": 36,
   "metadata": {},
   "outputs": [
    {
     "data": {
      "text/plain": [
       "4-element Array{Float64,1}:\n",
       "  4.238764816275562 \n",
       "  9.827448851817634 \n",
       "  3.8144037981457344\n",
       " 19.153700451494757 "
      ]
     },
     "execution_count": 36,
     "metadata": {},
     "output_type": "execute_result"
    }
   ],
   "source": [
    "value.(x)"
   ]
  },
  {
   "cell_type": "code",
   "execution_count": 23,
   "metadata": {},
   "outputs": [
    {
     "data": {
      "text/plain": [
       "140.49668848980707"
      ]
     },
     "execution_count": 23,
     "metadata": {},
     "output_type": "execute_result"
    }
   ],
   "source": [
    "value.(t)"
   ]
  },
  {
   "cell_type": "code",
   "execution_count": 3,
   "metadata": {},
   "outputs": [
    {
     "name": "stdout",
     "output_type": "stream",
     "text": [
      "Academic license - for non-commercial use only\n",
      "Academic license - for non-commercial use only\n"
     ]
    }
   ],
   "source": [
    "model = Model(with_optimizer(Gurobi.Optimizer, OutputFlag=0))\n",
    "@variable(model, x[1:4]>=0)\n",
    "\n",
    "# objective\n",
    "profit = 50*x[1]+40*x[2]+60*x[3]+30*x[4]\n",
    "\n",
    "@constraint(model, dot(a, x)<=b)\n",
    "@constraint(model, 2*x[1]+3*x[2]+6*x[3]+1*x[4] <= 80)\n",
    "@constraint(model, 3*x[1]+2*x[2]+2*x[3]+0*x[4] <= 40)\n",
    "@objective(model, Max, profit)\n",
    "optimize!(model)"
   ]
  },
  {
   "cell_type": "code",
   "execution_count": 7,
   "metadata": {},
   "outputs": [
    {
     "data": {
      "text/plain": [
       "wc_val (generic function with 1 method)"
      ]
     },
     "execution_count": 7,
     "metadata": {},
     "output_type": "execute_result"
    }
   ],
   "source": [
    "E = diagm(0=>a)*0.3\n",
    "\n",
    "function wc_val(a, E, x)\n",
    "    return a+E*x/sqrt(dot(x, E*x))\n",
    "end"
   ]
  },
  {
   "cell_type": "code",
   "execution_count": 14,
   "metadata": {},
   "outputs": [
    {
     "name": "stdout",
     "output_type": "stream",
     "text": [
      "Relaxed Solution (iteration 1) : [4.806467620983567, 8.479879529227865, 4.310419039296784, 19.084911934568566]\n",
      "Relaxed Solution (iteration 2) : [2.903641587353474, 13.074365855810676, 2.570171763159112, 19.548588678906352]\n",
      "Relaxed Solution (iteration 3) : [3.8798053233817904, 10.700977705674592, 3.479314309252722, 19.261570380696313]\n",
      "Relaxed Solution (iteration 4) : [4.3431478337057925, 9.574433476597232, 3.9108447728440776, 19.125335265732254]\n",
      "Relaxed Solution (iteration 5) : [4.112873310357753, 10.133276506140774, 3.697413528322595, 19.189942690926596]\n",
      "Relaxed Solution (iteration 6) : [4.2283270773853765, 9.85282967097478, 3.804679712947155, 19.15677855462198]\n",
      "Relaxed Solution (iteration 7) : [4.285746766271372, 9.713352454779306, 3.858027395813634, 19.140284728237532]\n",
      "Relaxed Solution (iteration 8) : [4.257056468614461, 9.783027506931512, 3.8313877901467945, 19.148477801095773]\n",
      "Relaxed Solution (iteration 9) : [4.242692633073417, 9.81791041412181, 3.8180506362680653, 19.152579673879348]\n",
      "Relaxed Solution (iteration 10) : [4.2355059968169195, 9.835363326669396, 3.8113776781052233, 19.154631957726632]\n",
      "Relaxed Solution (iteration 11) : [4.2390996236019305, 9.826635869547573, 3.8147146950495303, 19.15360497385624]\n",
      "Relaxed Solution (iteration 12) : [4.237302887461123, 9.830999347673481, 3.813046321134835, 19.1541182552483]\n",
      "Relaxed Solution (iteration 13) : [4.2382012750131155, 9.828817545593452, 3.813880541886874, 19.153861561872162]\n",
      "Relaxed Solution (iteration 14) : [4.2382012750131155, 9.828817545593452, 3.813880541886874, 19.153861561872162]\n",
      "Relaxed Solution (iteration 15) : [4.2382012750131155, 9.828817545593452, 3.813880541886874, 19.153861561872162]\n",
      "Relaxed Solution (iteration 16) : [4.2382012750131155, 9.828817545593452, 3.813880541886874, 19.153861561872162]\n",
      "Relaxed Solution (iteration 17) : [4.2382012750131155, 9.828817545593452, 3.813880541886874, 19.153861561872162]\n",
      "Relaxed Solution (iteration 18) : [4.2382012750131155, 9.828817545593452, 3.813880541886874, 19.153861561872162]\n",
      "Relaxed Solution (iteration 19) : [4.2382012750131155, 9.828817545593452, 3.813880541886874, 19.153861561872162]\n",
      "Relaxed Solution (iteration 20) : [4.2382012750131155, 9.828817545593452, 3.813880541886874, 19.153861561872162]\n"
     ]
    }
   ],
   "source": [
    "for k in 1:20\n",
    "    xk=value.(x)\n",
    "    a_wc = wc_val(a, E, xk)\n",
    "    @constraint(model, dot(a_wc, x)<=b)\n",
    "    optimize!(model)\n",
    "    println(\"Relaxed Solution (iteration \" * string(k) *\") : \"* string(value.(x))) \n",
    "end"
   ]
  }
 ],
 "metadata": {
  "kernelspec": {
   "display_name": "Julia 1.2.0",
   "language": "julia",
   "name": "julia-1.2"
  },
  "language_info": {
   "file_extension": ".jl",
   "mimetype": "application/julia",
   "name": "julia",
   "version": "1.2.0"
  }
 },
 "nbformat": 4,
 "nbformat_minor": 4
}
