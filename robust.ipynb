{
 "cells": [
  {
   "cell_type": "code",
   "execution_count": 11,
   "metadata": {},
   "outputs": [],
   "source": [
    "using JuMP\n",
    "using Gurobi\n",
    "using LinearAlgebra"
   ]
  },
  {
   "cell_type": "code",
   "execution_count": 14,
   "metadata": {},
   "outputs": [
    {
     "name": "stdout",
     "output_type": "stream",
     "text": [
      "Academic license - for non-commercial use only\n",
      "Academic license - for non-commercial use only\n"
     ]
    }
   ],
   "source": [
    "model = Model(with_optimizer(Gurobi.Optimizer, OutputFlag=0))\n",
    "@variable(model, x[1:4]>=0)\n",
    "\n",
    "# objective\n",
    "profit = 50*x[1]+40*x[2]+60*x[3]+30*x[4]\n",
    "\n",
    "# Time constraint\n",
    "a = [120, 100, 180, 140]\n",
    "b = 5000\n",
    "@constraint(model, dot(a, x)<=b)\n",
    "@constraint(model, 2*x[1]+3*x[2]+6*x[3]+1*x[4] <= 80)\n",
    "@constraint(model, 3*x[1]+2*x[2]+2*x[3]+0*x[4] <= 40)\n",
    "@objective(model, Max, profit)\n",
    "optimize!(model)"
   ]
  },
  {
   "cell_type": "code",
   "execution_count": 16,
   "metadata": {},
   "outputs": [
    {
     "name": "stdout",
     "output_type": "stream",
     "text": [
      "Academic license - for non-commercial use only\n"
     ]
    },
    {
     "ename": "ErrorException",
     "evalue": "JuMP no longer performs automatic transformation of `norm()` expressions into second-order cone constraints. They should now be expressed using the SecondOrderCone() set. For example, `@constraint(model, norm(x) <= t)` should now be written as `@constraint(model, [t; x] in SecondOrderCone())`",
     "output_type": "error",
     "traceback": [
      "JuMP no longer performs automatic transformation of `norm()` expressions into second-order cone constraints. They should now be expressed using the SecondOrderCone() set. For example, `@constraint(model, norm(x) <= t)` should now be written as `@constraint(model, [t; x] in SecondOrderCone())`",
      "",
      "Stacktrace:",
      " [1] error(::String, ::String, ::String, ::String, ::String) at .\\error.jl:42",
      " [2] norm(::Array{GenericAffExpr{Float64,VariableRef},1}) at C:\\Users\\johan\\.julia\\packages\\JuMP\\MsUSY\\src\\sets.jl:64",
      " [3] top-level scope at C:\\Users\\johan\\.julia\\packages\\JuMP\\MsUSY\\src\\macros.jl:390",
      " [4] top-level scope at In[16]:4"
     ]
    }
   ],
   "source": [
    "model2 = Model(with_optimizer(Gurobi.Optimizer, OutputFlag=0))\n",
    "@variable(model2, x[1:4]>=0)\n",
    "E = diagm(0=>a)*0.3\n",
    "@constraint(model2, dot(a, x)+norm(sqrt(E)*x)<=b)\n",
    "@constraint(model2, 2*x[1]+3*x[2]+6*x[3]+1*x[4] <= 80)\n",
    "@constraint(model2, 3*x[1]+2*x[2]+2*x[3]+0*x[4] <= 40)\n",
    "@objective(model2, Max, profit)\n",
    "optimize!(model2)"
   ]
  },
  {
   "cell_type": "code",
   "execution_count": null,
   "metadata": {},
   "outputs": [],
   "source": [
    "function wc_val(a, E, x)\n",
    "    return a+E*x/sqrt(dot(x, E*x))\n",
    "end\n",
    "\n",
    "relaxed_constrs = nominal_constrs\n",
    "for k in 1:20\n",
    "    xk=x.value\n",
    "    a_wc = wc_val(a, E, xk)\n",
    "    optimize!()"
   ]
  },
  {
   "cell_type": "code",
   "execution_count": null,
   "metadata": {},
   "outputs": [],
   "source": [
    "########################\n",
    "## ROBUST FORMULATION ##\n",
    "########################\n",
    "\n",
    "# Time constraint ellipse\n",
    "E = diagm(0=>a)*0.3\n",
    "\n",
    "robust_constrs = [\n",
    "    x>=0,\n",
    "    dot(a, x)+norm(sqrt(E)*x)<=b,\n",
    "    2*x[1]+3*x[2]+6*x[3]+1*x[4] <= 80,\n",
    "    3*x[1]+2*x[2]+2*x[3]+0*x[4] <= 40,\n",
    "]\n",
    "\n",
    "robust_problem = maximize(profit, robust_constrs)\n",
    "solve!(robust_problem, ECOSSolver(verbose=false))\n",
    "\n",
    "println(\"Optimal Robust Solution: \", x.value)\n",
    "\n",
    "#############################\n",
    "## LARGE SCALE FORMULATION ##\n",
    "#############################\n",
    "\n",
    "function wc_val(a, E, x)\n",
    "    return a+E*x/sqrt(dot(x, E*x))\n",
    "end\n",
    "\n",
    "relaxed_constrs = nominal_constrs\n",
    "for k in 1:20\n",
    "\n",
    "    xk=x.value\n",
    "    a_wc = wc_val(a, E, xk)\n",
    "    global relaxed_constrs = relaxed_constrs + [dot(a_wc,x)<=b]\n",
    "    relaxed_problem = maximize(profit, relaxed_constrs)\n",
    "    solve!(relaxed_problem, ClpSolver())\n",
    "\n",
    "    println(\"Relaxed Solution (iteration \" * string(k) *\") : \"* string(x.value)) \n",
    "end\n"
   ]
  }
 ],
 "metadata": {
  "kernelspec": {
   "display_name": "Julia 1.2.0",
   "language": "julia",
   "name": "julia-1.2"
  },
  "language_info": {
   "file_extension": ".jl",
   "mimetype": "application/julia",
   "name": "julia",
   "version": "1.2.0"
  }
 },
 "nbformat": 4,
 "nbformat_minor": 4
}
