{
 "cells": [
  {
   "cell_type": "code",
   "execution_count": 2,
   "metadata": {},
   "outputs": [],
   "source": [
    "using JuMP\n",
    "using Gurobi\n",
    "using LinearAlgebra"
   ]
  },
  {
   "cell_type": "code",
   "execution_count": 8,
   "metadata": {},
   "outputs": [
    {
     "name": "stdout",
     "output_type": "stream",
     "text": [
      "Academic license - for non-commercial use only\n",
      "Academic license - for non-commercial use only\n",
      "Optimize a model with 3 rows, 4 columns and 11 nonzeros\n",
      "Coefficient statistics:\n",
      "  Matrix range     [1e+00, 2e+02]\n",
      "  Objective range  [3e+01, 6e+01]\n",
      "  Bounds range     [0e+00, 0e+00]\n",
      "  RHS range        [4e+01, 5e+03]\n",
      "Presolve time: 0.02s\n",
      "Presolved: 3 rows, 4 columns, 11 nonzeros\n",
      "\n",
      "Iteration    Objective       Primal Inf.    Dual Inf.      Time\n",
      "       0    1.3750000e+31   6.625000e+30   1.375000e+01      0s\n",
      "       5    1.4406250e+03   0.000000e+00   0.000000e+00      0s\n",
      "\n",
      "Solved in 5 iterations and 0.03 seconds\n",
      "Optimal objective  1.440625000e+03\n"
     ]
    }
   ],
   "source": [
    "model = Model(with_optimizer(Gurobi.Optimizer))\n",
    "@variable(model, x[1:4]>=0)\n",
    "\n",
    "# objective\n",
    "profit = 50*x[1]+40*x[2]+60*x[3]+30*x[4]\n",
    "\n",
    "# Time constraint\n",
    "a = [120, 100, 180, 140]\n",
    "b = 5000\n",
    "@constraint(model, dot(a, x)<=b)\n",
    "@constraint(model, 2*x[1]+3*x[2]+6*x[3]+1*x[4] <= 80)\n",
    "@constraint(model, 3*x[1]+2*x[2]+2*x[3]+0*x[4] <= 40)\n",
    "@objective(model, Max, profit)\n",
    "optimize!(model)"
   ]
  },
  {
   "cell_type": "code",
   "execution_count": null,
   "metadata": {},
   "outputs": [],
   "source": [
    "E = diagm(0=>a)*0.3\n",
    "@constraint(model2, dot(a, x)+norm(sqrt(E)*x)<=b)\n",
    "@constraint(model2, 2*x[1]+3*x[2]+6*x[3]+1*x[4] <= 80)\n",
    "@constraint(model2, 3*x[1]+2*x[2]+2*x[3]+0*x[4] <= 40)\n",
    "@objective(model2, Max, profit)\n",
    "optimize!(model2)"
   ]
  },
  {
   "cell_type": "code",
   "execution_count": null,
   "metadata": {},
   "outputs": [],
   "source": [
    "function wc_val(a, E, x)\n",
    "    return a+E*x/sqrt(dot(x, E*x))\n",
    "end\n",
    "\n",
    "relaxed_constrs = nominal_constrs\n",
    "for k in 1:20\n",
    "    xk=x.value\n",
    "    a_wc = wc_val(a, E, xk)"
   ]
  },
  {
   "cell_type": "code",
   "execution_count": null,
   "metadata": {},
   "outputs": [],
   "source": [
    "########################\n",
    "## ROBUST FORMULATION ##\n",
    "########################\n",
    "\n",
    "# Time constraint ellipse\n",
    "E = diagm(0=>a)*0.3\n",
    "\n",
    "robust_constrs = [\n",
    "    x>=0,\n",
    "    dot(a, x)+norm(sqrt(E)*x)<=b,\n",
    "    2*x[1]+3*x[2]+6*x[3]+1*x[4] <= 80,\n",
    "    3*x[1]+2*x[2]+2*x[3]+0*x[4] <= 40,\n",
    "]\n",
    "\n",
    "robust_problem = maximize(profit, robust_constrs)\n",
    "solve!(robust_problem, ECOSSolver(verbose=false))\n",
    "\n",
    "println(\"Optimal Robust Solution: \", x.value)\n",
    "\n",
    "#############################\n",
    "## LARGE SCALE FORMULATION ##\n",
    "#############################\n",
    "\n",
    "function wc_val(a, E, x)\n",
    "    return a+E*x/sqrt(dot(x, E*x))\n",
    "end\n",
    "\n",
    "relaxed_constrs = nominal_constrs\n",
    "for k in 1:20\n",
    "\n",
    "    xk=x.value\n",
    "    a_wc = wc_val(a, E, xk)\n",
    "    global relaxed_constrs = relaxed_constrs + [dot(a_wc,x)<=b]\n",
    "    relaxed_problem = maximize(profit, relaxed_constrs)\n",
    "    solve!(relaxed_problem, ClpSolver())\n",
    "\n",
    "    println(\"Relaxed Solution (iteration \" * string(k) *\") : \"* string(x.value)) \n",
    "end\n"
   ]
  }
 ],
 "metadata": {
  "kernelspec": {
   "display_name": "Julia 1.2.0",
   "language": "julia",
   "name": "julia-1.2"
  },
  "language_info": {
   "file_extension": ".jl",
   "mimetype": "application/julia",
   "name": "julia",
   "version": "1.2.0"
  }
 },
 "nbformat": 4,
 "nbformat_minor": 4
}
